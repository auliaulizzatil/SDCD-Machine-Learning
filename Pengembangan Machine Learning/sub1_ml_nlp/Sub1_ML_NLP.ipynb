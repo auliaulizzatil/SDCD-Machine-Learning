{
  "nbformat": 4,
  "nbformat_minor": 0,
  "metadata": {
    "colab": {
      "name": "Sub1_ML_NLP.ipynb",
      "provenance": []
    },
    "kernelspec": {
      "name": "python3",
      "display_name": "Python 3"
    },
    "language_info": {
      "name": "python"
    }
  },
  "cells": [
    {
      "cell_type": "markdown",
      "metadata": {
        "id": "4_L4hCcJQStZ"
      },
      "source": [
        "***Nama: Auliaul Izzatil***\n",
        "\n",
        "**Belajar Pengembangan Machine Learning - NLP**"
      ]
    },
    {
      "cell_type": "code",
      "metadata": {
        "colab": {
          "base_uri": "https://localhost:8080/"
        },
        "id": "-IlW0n6zQP1l",
        "outputId": "d96c3c8a-6c27-4e2b-9ef0-0d30efab8cb1"
      },
      "source": [
        "!wget --no-check-certificate \\\n",
        "  https://storage.googleapis.com/dataset-uploader/bbc/bbc-text.csv \\\n",
        "  -O /tmp/bbc-text.csv"
      ],
      "execution_count": 1,
      "outputs": [
        {
          "output_type": "stream",
          "text": [
            "--2021-07-21 04:13:04--  https://storage.googleapis.com/dataset-uploader/bbc/bbc-text.csv\n",
            "Resolving storage.googleapis.com (storage.googleapis.com)... 74.125.141.128, 173.194.210.128, 173.194.212.128, ...\n",
            "Connecting to storage.googleapis.com (storage.googleapis.com)|74.125.141.128|:443... connected.\n",
            "HTTP request sent, awaiting response... 200 OK\n",
            "Length: 5057493 (4.8M) [text/csv]\n",
            "Saving to: ‘/tmp/bbc-text.csv’\n",
            "\n",
            "/tmp/bbc-text.csv   100%[===================>]   4.82M  --.-KB/s    in 0.03s   \n",
            "\n",
            "2021-07-21 04:13:04 (173 MB/s) - ‘/tmp/bbc-text.csv’ saved [5057493/5057493]\n",
            "\n"
          ],
          "name": "stdout"
        }
      ]
    },
    {
      "cell_type": "code",
      "metadata": {
        "colab": {
          "base_uri": "https://localhost:8080/",
          "height": 419
        },
        "id": "sc_ZkInMQl8R",
        "outputId": "ff8a2a73-3d8c-40c2-e2c4-03d5ce1f02c8"
      },
      "source": [
        "import pandas as pd\n",
        "df = pd.read_csv('/tmp/bbc-text.csv')\n",
        "df"
      ],
      "execution_count": 2,
      "outputs": [
        {
          "output_type": "execute_result",
          "data": {
            "text/html": [
              "<div>\n",
              "<style scoped>\n",
              "    .dataframe tbody tr th:only-of-type {\n",
              "        vertical-align: middle;\n",
              "    }\n",
              "\n",
              "    .dataframe tbody tr th {\n",
              "        vertical-align: top;\n",
              "    }\n",
              "\n",
              "    .dataframe thead th {\n",
              "        text-align: right;\n",
              "    }\n",
              "</style>\n",
              "<table border=\"1\" class=\"dataframe\">\n",
              "  <thead>\n",
              "    <tr style=\"text-align: right;\">\n",
              "      <th></th>\n",
              "      <th>category</th>\n",
              "      <th>text</th>\n",
              "    </tr>\n",
              "  </thead>\n",
              "  <tbody>\n",
              "    <tr>\n",
              "      <th>0</th>\n",
              "      <td>tech</td>\n",
              "      <td>tv future in the hands of viewers with home th...</td>\n",
              "    </tr>\n",
              "    <tr>\n",
              "      <th>1</th>\n",
              "      <td>business</td>\n",
              "      <td>worldcom boss  left books alone  former worldc...</td>\n",
              "    </tr>\n",
              "    <tr>\n",
              "      <th>2</th>\n",
              "      <td>sport</td>\n",
              "      <td>tigers wary of farrell  gamble  leicester say ...</td>\n",
              "    </tr>\n",
              "    <tr>\n",
              "      <th>3</th>\n",
              "      <td>sport</td>\n",
              "      <td>yeading face newcastle in fa cup premiership s...</td>\n",
              "    </tr>\n",
              "    <tr>\n",
              "      <th>4</th>\n",
              "      <td>entertainment</td>\n",
              "      <td>ocean s twelve raids box office ocean s twelve...</td>\n",
              "    </tr>\n",
              "    <tr>\n",
              "      <th>...</th>\n",
              "      <td>...</td>\n",
              "      <td>...</td>\n",
              "    </tr>\n",
              "    <tr>\n",
              "      <th>2220</th>\n",
              "      <td>business</td>\n",
              "      <td>cars pull down us retail figures us retail sal...</td>\n",
              "    </tr>\n",
              "    <tr>\n",
              "      <th>2221</th>\n",
              "      <td>politics</td>\n",
              "      <td>kilroy unveils immigration policy ex-chatshow ...</td>\n",
              "    </tr>\n",
              "    <tr>\n",
              "      <th>2222</th>\n",
              "      <td>entertainment</td>\n",
              "      <td>rem announce new glasgow concert us band rem h...</td>\n",
              "    </tr>\n",
              "    <tr>\n",
              "      <th>2223</th>\n",
              "      <td>politics</td>\n",
              "      <td>how political squabbles snowball it s become c...</td>\n",
              "    </tr>\n",
              "    <tr>\n",
              "      <th>2224</th>\n",
              "      <td>sport</td>\n",
              "      <td>souness delight at euro progress boss graeme s...</td>\n",
              "    </tr>\n",
              "  </tbody>\n",
              "</table>\n",
              "<p>2225 rows × 2 columns</p>\n",
              "</div>"
            ],
            "text/plain": [
              "           category                                               text\n",
              "0              tech  tv future in the hands of viewers with home th...\n",
              "1          business  worldcom boss  left books alone  former worldc...\n",
              "2             sport  tigers wary of farrell  gamble  leicester say ...\n",
              "3             sport  yeading face newcastle in fa cup premiership s...\n",
              "4     entertainment  ocean s twelve raids box office ocean s twelve...\n",
              "...             ...                                                ...\n",
              "2220       business  cars pull down us retail figures us retail sal...\n",
              "2221       politics  kilroy unveils immigration policy ex-chatshow ...\n",
              "2222  entertainment  rem announce new glasgow concert us band rem h...\n",
              "2223       politics  how political squabbles snowball it s become c...\n",
              "2224          sport  souness delight at euro progress boss graeme s...\n",
              "\n",
              "[2225 rows x 2 columns]"
            ]
          },
          "metadata": {
            "tags": []
          },
          "execution_count": 2
        }
      ]
    },
    {
      "cell_type": "code",
      "metadata": {
        "colab": {
          "base_uri": "https://localhost:8080/",
          "height": 419
        },
        "id": "kIy1bUQjQmfI",
        "outputId": "451744dd-36b3-4125-fb73-d4c956d9ad26"
      },
      "source": [
        "# encoding\n",
        "category = pd.get_dummies(df.category)\n",
        "df_baru = pd.concat([df, category], axis=1)\n",
        "df_baru = df_baru.drop(columns='category')\n",
        "df_baru"
      ],
      "execution_count": 3,
      "outputs": [
        {
          "output_type": "execute_result",
          "data": {
            "text/html": [
              "<div>\n",
              "<style scoped>\n",
              "    .dataframe tbody tr th:only-of-type {\n",
              "        vertical-align: middle;\n",
              "    }\n",
              "\n",
              "    .dataframe tbody tr th {\n",
              "        vertical-align: top;\n",
              "    }\n",
              "\n",
              "    .dataframe thead th {\n",
              "        text-align: right;\n",
              "    }\n",
              "</style>\n",
              "<table border=\"1\" class=\"dataframe\">\n",
              "  <thead>\n",
              "    <tr style=\"text-align: right;\">\n",
              "      <th></th>\n",
              "      <th>text</th>\n",
              "      <th>business</th>\n",
              "      <th>entertainment</th>\n",
              "      <th>politics</th>\n",
              "      <th>sport</th>\n",
              "      <th>tech</th>\n",
              "    </tr>\n",
              "  </thead>\n",
              "  <tbody>\n",
              "    <tr>\n",
              "      <th>0</th>\n",
              "      <td>tv future in the hands of viewers with home th...</td>\n",
              "      <td>0</td>\n",
              "      <td>0</td>\n",
              "      <td>0</td>\n",
              "      <td>0</td>\n",
              "      <td>1</td>\n",
              "    </tr>\n",
              "    <tr>\n",
              "      <th>1</th>\n",
              "      <td>worldcom boss  left books alone  former worldc...</td>\n",
              "      <td>1</td>\n",
              "      <td>0</td>\n",
              "      <td>0</td>\n",
              "      <td>0</td>\n",
              "      <td>0</td>\n",
              "    </tr>\n",
              "    <tr>\n",
              "      <th>2</th>\n",
              "      <td>tigers wary of farrell  gamble  leicester say ...</td>\n",
              "      <td>0</td>\n",
              "      <td>0</td>\n",
              "      <td>0</td>\n",
              "      <td>1</td>\n",
              "      <td>0</td>\n",
              "    </tr>\n",
              "    <tr>\n",
              "      <th>3</th>\n",
              "      <td>yeading face newcastle in fa cup premiership s...</td>\n",
              "      <td>0</td>\n",
              "      <td>0</td>\n",
              "      <td>0</td>\n",
              "      <td>1</td>\n",
              "      <td>0</td>\n",
              "    </tr>\n",
              "    <tr>\n",
              "      <th>4</th>\n",
              "      <td>ocean s twelve raids box office ocean s twelve...</td>\n",
              "      <td>0</td>\n",
              "      <td>1</td>\n",
              "      <td>0</td>\n",
              "      <td>0</td>\n",
              "      <td>0</td>\n",
              "    </tr>\n",
              "    <tr>\n",
              "      <th>...</th>\n",
              "      <td>...</td>\n",
              "      <td>...</td>\n",
              "      <td>...</td>\n",
              "      <td>...</td>\n",
              "      <td>...</td>\n",
              "      <td>...</td>\n",
              "    </tr>\n",
              "    <tr>\n",
              "      <th>2220</th>\n",
              "      <td>cars pull down us retail figures us retail sal...</td>\n",
              "      <td>1</td>\n",
              "      <td>0</td>\n",
              "      <td>0</td>\n",
              "      <td>0</td>\n",
              "      <td>0</td>\n",
              "    </tr>\n",
              "    <tr>\n",
              "      <th>2221</th>\n",
              "      <td>kilroy unveils immigration policy ex-chatshow ...</td>\n",
              "      <td>0</td>\n",
              "      <td>0</td>\n",
              "      <td>1</td>\n",
              "      <td>0</td>\n",
              "      <td>0</td>\n",
              "    </tr>\n",
              "    <tr>\n",
              "      <th>2222</th>\n",
              "      <td>rem announce new glasgow concert us band rem h...</td>\n",
              "      <td>0</td>\n",
              "      <td>1</td>\n",
              "      <td>0</td>\n",
              "      <td>0</td>\n",
              "      <td>0</td>\n",
              "    </tr>\n",
              "    <tr>\n",
              "      <th>2223</th>\n",
              "      <td>how political squabbles snowball it s become c...</td>\n",
              "      <td>0</td>\n",
              "      <td>0</td>\n",
              "      <td>1</td>\n",
              "      <td>0</td>\n",
              "      <td>0</td>\n",
              "    </tr>\n",
              "    <tr>\n",
              "      <th>2224</th>\n",
              "      <td>souness delight at euro progress boss graeme s...</td>\n",
              "      <td>0</td>\n",
              "      <td>0</td>\n",
              "      <td>0</td>\n",
              "      <td>1</td>\n",
              "      <td>0</td>\n",
              "    </tr>\n",
              "  </tbody>\n",
              "</table>\n",
              "<p>2225 rows × 6 columns</p>\n",
              "</div>"
            ],
            "text/plain": [
              "                                                   text  business  ...  sport  tech\n",
              "0     tv future in the hands of viewers with home th...         0  ...      0     1\n",
              "1     worldcom boss  left books alone  former worldc...         1  ...      0     0\n",
              "2     tigers wary of farrell  gamble  leicester say ...         0  ...      1     0\n",
              "3     yeading face newcastle in fa cup premiership s...         0  ...      1     0\n",
              "4     ocean s twelve raids box office ocean s twelve...         0  ...      0     0\n",
              "...                                                 ...       ...  ...    ...   ...\n",
              "2220  cars pull down us retail figures us retail sal...         1  ...      0     0\n",
              "2221  kilroy unveils immigration policy ex-chatshow ...         0  ...      0     0\n",
              "2222  rem announce new glasgow concert us band rem h...         0  ...      0     0\n",
              "2223  how political squabbles snowball it s become c...         0  ...      0     0\n",
              "2224  souness delight at euro progress boss graeme s...         0  ...      1     0\n",
              "\n",
              "[2225 rows x 6 columns]"
            ]
          },
          "metadata": {
            "tags": []
          },
          "execution_count": 3
        }
      ]
    },
    {
      "cell_type": "markdown",
      "metadata": {
        "id": "Gha7qvnRQrps"
      },
      "source": [
        "Mengubah nilai dari dataframe  ke tipe data numpy array"
      ]
    },
    {
      "cell_type": "code",
      "metadata": {
        "id": "x0U6b4W_QpT_"
      },
      "source": [
        "text = df_baru['text'].values\n",
        "label = df_baru[['business', 'entertainment', 'politics', 'sport', 'tech']].values"
      ],
      "execution_count": 6,
      "outputs": []
    },
    {
      "cell_type": "code",
      "metadata": {
        "id": "RDdIXNMkQxN3"
      },
      "source": [
        "from sklearn.model_selection import train_test_split\n",
        "text_latih, text_test, label_latih, label_test = train_test_split(text, label, test_size=0.2)"
      ],
      "execution_count": 7,
      "outputs": []
    },
    {
      "cell_type": "code",
      "metadata": {
        "id": "rHex_yzjQy0g"
      },
      "source": [
        "from tensorflow.keras.preprocessing.text import Tokenizer\n",
        "from tensorflow.keras.preprocessing.sequence import pad_sequences\n",
        " \n",
        "tokenizer = Tokenizer(num_words=5000, oov_token='x')\n",
        "tokenizer.fit_on_texts(text_latih) \n",
        "tokenizer.fit_on_texts(text_test)\n",
        " \n",
        "sekuens_latih = tokenizer.texts_to_sequences(text_latih)\n",
        "sekuens_test = tokenizer.texts_to_sequences(text_test)\n",
        " \n",
        "padded_latih = pad_sequences(sekuens_latih)\n",
        "padded_test = pad_sequences(sekuens_test)"
      ],
      "execution_count": 8,
      "outputs": []
    },
    {
      "cell_type": "code",
      "metadata": {
        "id": "I92rlJ62Q1Jw"
      },
      "source": [
        "import tensorflow as tf\n",
        "model = tf.keras.Sequential([\n",
        "    tf.keras.layers.Embedding(input_dim=5000, output_dim=16),\n",
        "    tf.keras.layers.LSTM(64),\n",
        "    tf.keras.layers.Dense(128, activation='relu'),\n",
        "    tf.keras.layers.Dense(64, activation='relu'),\n",
        "    tf.keras.layers.Dense(5, activation='softmax')\n",
        "])\n",
        "model.compile(loss='categorical_crossentropy',optimizer='adam',metrics=['accuracy'])"
      ],
      "execution_count": 9,
      "outputs": []
    },
    {
      "cell_type": "code",
      "metadata": {
        "colab": {
          "base_uri": "https://localhost:8080/"
        },
        "id": "tv-iKEZLQ1p4",
        "outputId": "6c417e96-a0bd-4120-f1d6-0da972143f55"
      },
      "source": [
        "num_epochs = 30\n",
        "history = model.fit(padded_latih, label_latih, epochs=num_epochs, \n",
        "                    validation_data=(padded_test, label_test), verbose=2)"
      ],
      "execution_count": 10,
      "outputs": [
        {
          "output_type": "stream",
          "text": [
            "Epoch 1/30\n",
            "56/56 - 211s - loss: 1.6000 - accuracy: 0.2393 - val_loss: 1.5756 - val_accuracy: 0.3663\n",
            "Epoch 2/30\n",
            "56/56 - 210s - loss: 1.5778 - accuracy: 0.3264 - val_loss: 1.5432 - val_accuracy: 0.2944\n",
            "Epoch 3/30\n",
            "56/56 - 211s - loss: 1.3167 - accuracy: 0.4775 - val_loss: 1.0558 - val_accuracy: 0.5506\n",
            "Epoch 4/30\n",
            "56/56 - 210s - loss: 0.8619 - accuracy: 0.6270 - val_loss: 0.8245 - val_accuracy: 0.7034\n",
            "Epoch 5/30\n",
            "56/56 - 209s - loss: 0.5226 - accuracy: 0.7803 - val_loss: 0.6610 - val_accuracy: 0.7146\n",
            "Epoch 6/30\n",
            "56/56 - 210s - loss: 0.2772 - accuracy: 0.9084 - val_loss: 0.5089 - val_accuracy: 0.8247\n",
            "Epoch 7/30\n",
            "56/56 - 211s - loss: 0.1226 - accuracy: 0.9652 - val_loss: 0.5569 - val_accuracy: 0.8292\n",
            "Epoch 8/30\n",
            "56/56 - 207s - loss: 0.0581 - accuracy: 0.9831 - val_loss: 0.5877 - val_accuracy: 0.8292\n",
            "Epoch 9/30\n",
            "56/56 - 207s - loss: 0.0755 - accuracy: 0.9809 - val_loss: 0.6222 - val_accuracy: 0.8472\n",
            "Epoch 10/30\n",
            "56/56 - 209s - loss: 0.0462 - accuracy: 0.9871 - val_loss: 0.5771 - val_accuracy: 0.8584\n",
            "Epoch 11/30\n",
            "56/56 - 210s - loss: 0.0332 - accuracy: 0.9876 - val_loss: 0.6003 - val_accuracy: 0.8315\n",
            "Epoch 12/30\n",
            "56/56 - 208s - loss: 0.0126 - accuracy: 0.9966 - val_loss: 0.6057 - val_accuracy: 0.8584\n",
            "Epoch 13/30\n",
            "56/56 - 206s - loss: 0.0049 - accuracy: 0.9989 - val_loss: 0.5942 - val_accuracy: 0.8494\n",
            "Epoch 14/30\n",
            "56/56 - 201s - loss: 0.0012 - accuracy: 1.0000 - val_loss: 0.6071 - val_accuracy: 0.8584\n",
            "Epoch 15/30\n",
            "56/56 - 200s - loss: 7.3915e-04 - accuracy: 1.0000 - val_loss: 0.6250 - val_accuracy: 0.8629\n",
            "Epoch 16/30\n",
            "56/56 - 199s - loss: 5.8690e-04 - accuracy: 1.0000 - val_loss: 0.6280 - val_accuracy: 0.8652\n",
            "Epoch 17/30\n",
            "56/56 - 198s - loss: 4.8443e-04 - accuracy: 1.0000 - val_loss: 0.6411 - val_accuracy: 0.8697\n",
            "Epoch 18/30\n",
            "56/56 - 198s - loss: 4.0816e-04 - accuracy: 1.0000 - val_loss: 0.6419 - val_accuracy: 0.8674\n",
            "Epoch 19/30\n",
            "56/56 - 199s - loss: 3.5235e-04 - accuracy: 1.0000 - val_loss: 0.6519 - val_accuracy: 0.8719\n",
            "Epoch 20/30\n",
            "56/56 - 198s - loss: 3.0602e-04 - accuracy: 1.0000 - val_loss: 0.6587 - val_accuracy: 0.8719\n",
            "Epoch 21/30\n",
            "56/56 - 198s - loss: 2.6921e-04 - accuracy: 1.0000 - val_loss: 0.6652 - val_accuracy: 0.8697\n",
            "Epoch 22/30\n",
            "56/56 - 200s - loss: 2.3923e-04 - accuracy: 1.0000 - val_loss: 0.6708 - val_accuracy: 0.8697\n",
            "Epoch 23/30\n",
            "56/56 - 198s - loss: 2.1358e-04 - accuracy: 1.0000 - val_loss: 0.6760 - val_accuracy: 0.8697\n",
            "Epoch 24/30\n",
            "56/56 - 197s - loss: 1.9219e-04 - accuracy: 1.0000 - val_loss: 0.6832 - val_accuracy: 0.8697\n",
            "Epoch 25/30\n",
            "56/56 - 198s - loss: 1.7319e-04 - accuracy: 1.0000 - val_loss: 0.6848 - val_accuracy: 0.8742\n",
            "Epoch 26/30\n",
            "56/56 - 198s - loss: 1.5728e-04 - accuracy: 1.0000 - val_loss: 0.6882 - val_accuracy: 0.8742\n",
            "Epoch 27/30\n",
            "56/56 - 198s - loss: 1.4334e-04 - accuracy: 1.0000 - val_loss: 0.6926 - val_accuracy: 0.8764\n",
            "Epoch 28/30\n",
            "56/56 - 196s - loss: 1.3090e-04 - accuracy: 1.0000 - val_loss: 0.6983 - val_accuracy: 0.8764\n",
            "Epoch 29/30\n",
            "56/56 - 198s - loss: 1.1999e-04 - accuracy: 1.0000 - val_loss: 0.7002 - val_accuracy: 0.8742\n",
            "Epoch 30/30\n",
            "56/56 - 196s - loss: 1.1011e-04 - accuracy: 1.0000 - val_loss: 0.7066 - val_accuracy: 0.8764\n"
          ],
          "name": "stdout"
        }
      ]
    },
    {
      "cell_type": "code",
      "metadata": {
        "colab": {
          "base_uri": "https://localhost:8080/",
          "height": 295
        },
        "id": "KGkF2dIvQ4Kw",
        "outputId": "8387e031-551e-43ab-836a-2658602ae6cd"
      },
      "source": [
        "import matplotlib.pyplot as plt\n",
        "plt.plot(history.history['accuracy'])\n",
        "plt.plot(history.history['val_accuracy'])\n",
        "plt.title('Akurasi Model')\n",
        "plt.ylabel('accuracy')\n",
        "plt.xlabel('epoch')\n",
        "plt.legend(['train', 'test'], loc='upper left')\n",
        "plt.show()"
      ],
      "execution_count": 11,
      "outputs": [
        {
          "output_type": "display_data",
          "data": {
            "image/png": "[encoded data removed]",
            "text/plain": [
              "<Figure size 432x288 with 1 Axes>"
            ]
          },
          "metadata": {
            "tags": [],
            "needs_background": "light"
          }
        }
      ]
    },
    {
      "cell_type": "code",
      "metadata": {
        "colab": {
          "base_uri": "https://localhost:8080/",
          "height": 295
        },
        "id": "tWz_lW69Q52y",
        "outputId": "c3a4f0e0-3462-46e5-81b2-1f0bd4903b6f"
      },
      "source": [
        "plt.plot(history.history['loss'])\n",
        "plt.plot(history.history['val_loss'])\n",
        "plt.title('Loss Model')\n",
        "plt.ylabel('loss')\n",
        "plt.xlabel('epoch')\n",
        "plt.legend(['train', 'test'], loc='upper left')\n",
        "plt.show()"
      ],
      "execution_count": 12,
      "outputs": [
        {
          "output_type": "display_data",
          "data": {
            "image/png": "[encoded data removed]",
            "text/plain": [
              "<Figure size 432x288 with 1 Axes>"
            ]
          },
          "metadata": {
            "tags": [],
            "needs_background": "light"
          }
        }
      ]
    }
  ]
}